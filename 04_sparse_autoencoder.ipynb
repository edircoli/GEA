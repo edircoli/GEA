{
 "cells": [
  {
   "cell_type": "markdown",
   "id": "2f713d01",
   "metadata": {},
   "source": [
    "## Sparse autoencoder with graph-level embeddings"
   ]
  }
 ],
 "metadata": {
  "language_info": {
   "name": "python"
  }
 },
 "nbformat": 4,
 "nbformat_minor": 5
}
